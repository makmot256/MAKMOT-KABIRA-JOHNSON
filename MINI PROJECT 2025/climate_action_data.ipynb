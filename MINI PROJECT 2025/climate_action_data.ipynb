{
 "cells": [
  {
   "cell_type": "code",
   "execution_count": null,
   "id": "fb8b3b35",
   "metadata": {},
   "outputs": [],
   "source": [
    "import pandas as pd\n",
    "import numpy as np\n",
    "import matplotlib.pyplot as plt\n",
    "import seaborn as sns\n",
    "\n",
    "# Load and Inspect the Data\n",
    "# Load the dataset\n",
    "df = pd.read_csv('climate_action_data.csv')\n",
    "\n",
    "# Preview the dataset\n",
    "print(df.head())\n",
    "print(df.info())\n",
    "print(df.describe())\n",
    "print(df.shape) # Rows and columns in the dataset"
   ]
  },
  {
   "cell_type": "code",
   "execution_count": null,
   "id": "8a078dd6",
   "metadata": {},
   "outputs": [],
   "source": [
    "#  2. Clean the Dataset\n",
    "# Replace 'error' strings with NaN\n",
    "df.replace('error', np.nan, inplace=True)\n",
    "\n",
    "# Remove duplicates\n",
    "df.drop_duplicates(inplace=True)\n",
    "\n",
    "# Convert data types (try numeric conversion where possible)\n",
    "df = df.apply(pd.to_numeric, errors='ignore')\n",
    "\n",
    "# Check for missing values\n",
    "print(df.isnull().sum())\n",
    "\n",
    "# Handle missing values\n",
    "# Fill missing numerical values with median (more robust than mean)\n",
    "for col in df.select_dtypes(include=[np.number]).columns:\n",
    "    df[col].fillna(df[col].median(), inplace=True)\n",
    "\n",
    "# Drop rows with too many missing values (if any remain)\n",
    "df.dropna(thresh=len(df.columns) - 2, inplace=True)  # keep rows with at least 8/10 fields\n",
    "\n",
    "# Final check\n",
    "print(df.info())\n"
   ]
  },
  {
   "cell_type": "code",
   "execution_count": null,
   "id": "944d80e4",
   "metadata": {},
   "outputs": [],
   "source": [
    "# Exploratory Data Analysis (EDA)\n",
    "print(df.describe())\n"
   ]
  },
  {
   "cell_type": "code",
   "execution_count": null,
   "id": "7f5919ee",
   "metadata": {},
   "outputs": [],
   "source": [
    "# Histograms for numeric variables\n",
    "df.select_dtypes(include=[np.number]).hist(bins=20, figsize=(15, 10))\n",
    "plt.tight_layout()\n",
    "plt.show()\n",
    "\n"
   ]
  },
  {
   "cell_type": "code",
   "execution_count": null,
   "id": "28543423",
   "metadata": {},
   "outputs": [],
   "source": [
    "# Correlation heatmap\n",
    "\n",
    "# Identify non-numeric columns that shouldn't be converted (e.g., sensor ID, crop type)\n",
    "non_numeric_cols = ['sensor_id', 'crop_type']  # adjust based on your actual column names\n",
    "\n",
    "# Convert only numeric-like columns to numeric, coercing errors into NaN\n",
    "for col in df.columns:\n",
    "    if col not in non_numeric_cols:\n",
    "        df[col] = pd.to_numeric(df[col], errors='coerce')\n",
    "\n",
    "plt.figure(figsize=(10, 8))\n",
    "sns.heatmap(df.corr(), annot=True, cmap='coolwarm')\n",
    "plt.title('Correlation Heatmap')\n",
    "plt.show()\n"
   ]
  },
  {
   "cell_type": "code",
   "execution_count": null,
   "id": "b41b2e50",
   "metadata": {},
   "outputs": [],
   "source": [
    "# Variables influencing fertilizer recommendations\n",
    "# Check for variables that might influence fertilizer recommendations\n",
    "if 'Fertilizer_Recommended(kg/ha)' in df.columns:\n",
    "    corr_with_fertilizer = df.corr()['Fertilizer_Recommended(kg/ha)'].sort_values(ascending=False)\n",
    "    print(\"Top correlated features with Fertilizer_Recommended(kg/ha):\")\n",
    "    print(corr_with_fertilizer)\n"
   ]
  },
  {
   "cell_type": "code",
   "execution_count": null,
   "id": "9eea9363",
   "metadata": {},
   "outputs": [],
   "source": [
    "print(df[['Crop_Type','Soil_Moisture(%)']].head(10))\n",
    "print(df['Soil_Moisture(%)'].isnull().sum())  # Number of missing values\n",
    "print(df['Crop_Type'].isnull().sum())\n",
    "print(df['Soil_Moisture(%)'].unique())\n",
    "\n"
   ]
  },
  {
   "cell_type": "code",
   "execution_count": 41,
   "id": "b268899d",
   "metadata": {},
   "outputs": [
    {
     "ename": "ValueError",
     "evalue": "attempt to get argmax of an empty sequence",
     "output_type": "error",
     "traceback": [
      "\u001b[31m---------------------------------------------------------------------------\u001b[39m",
      "\u001b[31mValueError\u001b[39m                                Traceback (most recent call last)",
      "\u001b[36mCell\u001b[39m\u001b[36m \u001b[39m\u001b[32mIn[41]\u001b[39m\u001b[32m, line 3\u001b[39m\n\u001b[32m      1\u001b[39m \u001b[38;5;66;03m# Crop type with highest average soil moisture\u001b[39;00m\n\u001b[32m      2\u001b[39m \u001b[38;5;28;01mif\u001b[39;00m \u001b[33m'\u001b[39m\u001b[33mCrop_Type\u001b[39m\u001b[33m'\u001b[39m \u001b[38;5;129;01min\u001b[39;00m df.columns \u001b[38;5;129;01mand\u001b[39;00m \u001b[33m'\u001b[39m\u001b[33mSoil_Moisture(\u001b[39m\u001b[33m%\u001b[39m\u001b[33m)\u001b[39m\u001b[33m'\u001b[39m \u001b[38;5;129;01min\u001b[39;00m df.columns:\n\u001b[32m----> \u001b[39m\u001b[32m3\u001b[39m     top_crop = \u001b[43mdf\u001b[49m\u001b[43m.\u001b[49m\u001b[43mgroupby\u001b[49m\u001b[43m(\u001b[49m\u001b[33;43m'\u001b[39;49m\u001b[33;43mCrop_Type\u001b[39;49m\u001b[33;43m'\u001b[39;49m\u001b[43m)\u001b[49m\u001b[43m[\u001b[49m\u001b[33;43m'\u001b[39;49m\u001b[33;43mSoil_Moisture(\u001b[39;49m\u001b[33;43m%\u001b[39;49m\u001b[33;43m)\u001b[39;49m\u001b[33;43m'\u001b[39;49m\u001b[43m]\u001b[49m\u001b[43m.\u001b[49m\u001b[43mmean\u001b[49m\u001b[43m(\u001b[49m\u001b[43m)\u001b[49m\u001b[43m.\u001b[49m\u001b[43msort_values\u001b[49m\u001b[43m(\u001b[49m\u001b[43mascending\u001b[49m\u001b[43m=\u001b[49m\u001b[38;5;28;43;01mFalse\u001b[39;49;00m\u001b[43m)\u001b[49m\u001b[43m.\u001b[49m\u001b[43midxmax\u001b[49m\u001b[43m(\u001b[49m\u001b[43m)\u001b[49m\n\u001b[32m      4\u001b[39m     \u001b[38;5;28mprint\u001b[39m(\u001b[33mf\u001b[39m\u001b[33m\"\u001b[39m\u001b[33mCrop type with highest average soil moisture: \u001b[39m\u001b[38;5;132;01m{\u001b[39;00mtop_crop\u001b[38;5;132;01m}\u001b[39;00m\u001b[33m\"\u001b[39m)\n",
      "\u001b[36mFile \u001b[39m\u001b[32mc:\\Python313\\Lib\\site-packages\\pandas\\core\\series.py:2761\u001b[39m, in \u001b[36mSeries.idxmax\u001b[39m\u001b[34m(self, axis, skipna, *args, **kwargs)\u001b[39m\n\u001b[32m   2756\u001b[39m \u001b[38;5;28;01mwith\u001b[39;00m warnings.catch_warnings():\n\u001b[32m   2757\u001b[39m     \u001b[38;5;66;03m# TODO(3.0): this catching/filtering can be removed\u001b[39;00m\n\u001b[32m   2758\u001b[39m     \u001b[38;5;66;03m# ignore warning produced by argmax since we will issue a different\u001b[39;00m\n\u001b[32m   2759\u001b[39m     \u001b[38;5;66;03m#  warning for argmax\u001b[39;00m\n\u001b[32m   2760\u001b[39m     warnings.simplefilter(\u001b[33m\"\u001b[39m\u001b[33mignore\u001b[39m\u001b[33m\"\u001b[39m)\n\u001b[32m-> \u001b[39m\u001b[32m2761\u001b[39m     i = \u001b[38;5;28;43mself\u001b[39;49m\u001b[43m.\u001b[49m\u001b[43margmax\u001b[49m\u001b[43m(\u001b[49m\u001b[43maxis\u001b[49m\u001b[43m,\u001b[49m\u001b[43m \u001b[49m\u001b[43mskipna\u001b[49m\u001b[43m,\u001b[49m\u001b[43m \u001b[49m\u001b[43m*\u001b[49m\u001b[43margs\u001b[49m\u001b[43m,\u001b[49m\u001b[43m \u001b[49m\u001b[43m*\u001b[49m\u001b[43m*\u001b[49m\u001b[43mkwargs\u001b[49m\u001b[43m)\u001b[49m\n\u001b[32m   2763\u001b[39m \u001b[38;5;28;01mif\u001b[39;00m i == -\u001b[32m1\u001b[39m:\n\u001b[32m   2764\u001b[39m     \u001b[38;5;66;03m# GH#43587 give correct NA value for Index.\u001b[39;00m\n\u001b[32m   2765\u001b[39m     warnings.warn(\n\u001b[32m   2766\u001b[39m         \u001b[33mf\u001b[39m\u001b[33m\"\u001b[39m\u001b[33mThe behavior of \u001b[39m\u001b[38;5;132;01m{\u001b[39;00m\u001b[38;5;28mtype\u001b[39m(\u001b[38;5;28mself\u001b[39m).\u001b[34m__name__\u001b[39m\u001b[38;5;132;01m}\u001b[39;00m\u001b[33m.idxmax with all-NA \u001b[39m\u001b[33m\"\u001b[39m\n\u001b[32m   2767\u001b[39m         \u001b[33m\"\u001b[39m\u001b[33mvalues, or any-NA and skipna=False, is deprecated. In a future \u001b[39m\u001b[33m\"\u001b[39m\n\u001b[32m   (...)\u001b[39m\u001b[32m   2770\u001b[39m         stacklevel=find_stack_level(),\n\u001b[32m   2771\u001b[39m     )\n",
      "\u001b[36mFile \u001b[39m\u001b[32mc:\\Python313\\Lib\\site-packages\\pandas\\core\\base.py:751\u001b[39m, in \u001b[36mIndexOpsMixin.argmax\u001b[39m\u001b[34m(self, axis, skipna, *args, **kwargs)\u001b[39m\n\u001b[32m    749\u001b[39m         \u001b[38;5;28;01mreturn\u001b[39;00m delegate.argmax()\n\u001b[32m    750\u001b[39m \u001b[38;5;28;01melse\u001b[39;00m:\n\u001b[32m--> \u001b[39m\u001b[32m751\u001b[39m     result = \u001b[43mnanops\u001b[49m\u001b[43m.\u001b[49m\u001b[43mnanargmax\u001b[49m\u001b[43m(\u001b[49m\u001b[43mdelegate\u001b[49m\u001b[43m,\u001b[49m\u001b[43m \u001b[49m\u001b[43mskipna\u001b[49m\u001b[43m=\u001b[49m\u001b[43mskipna\u001b[49m\u001b[43m)\u001b[49m\n\u001b[32m    752\u001b[39m     \u001b[38;5;28;01mif\u001b[39;00m result == -\u001b[32m1\u001b[39m:\n\u001b[32m    753\u001b[39m         warnings.warn(\n\u001b[32m    754\u001b[39m             \u001b[33mf\u001b[39m\u001b[33m\"\u001b[39m\u001b[33mThe behavior of \u001b[39m\u001b[38;5;132;01m{\u001b[39;00m\u001b[38;5;28mtype\u001b[39m(\u001b[38;5;28mself\u001b[39m).\u001b[34m__name__\u001b[39m\u001b[38;5;132;01m}\u001b[39;00m\u001b[33m.argmax/argmin \u001b[39m\u001b[33m\"\u001b[39m\n\u001b[32m    755\u001b[39m             \u001b[33m\"\u001b[39m\u001b[33mwith skipna=False and NAs, or with all-NAs is deprecated. \u001b[39m\u001b[33m\"\u001b[39m\n\u001b[32m   (...)\u001b[39m\u001b[32m    758\u001b[39m             stacklevel=find_stack_level(),\n\u001b[32m    759\u001b[39m         )\n",
      "\u001b[36mFile \u001b[39m\u001b[32mc:\\Python313\\Lib\\site-packages\\pandas\\core\\nanops.py:1148\u001b[39m, in \u001b[36mnanargmax\u001b[39m\u001b[34m(values, axis, skipna, mask)\u001b[39m\n\u001b[32m   1116\u001b[39m \u001b[38;5;250m\u001b[39m\u001b[33;03m\"\"\"\u001b[39;00m\n\u001b[32m   1117\u001b[39m \u001b[33;03mParameters\u001b[39;00m\n\u001b[32m   1118\u001b[39m \u001b[33;03m----------\u001b[39;00m\n\u001b[32m   (...)\u001b[39m\u001b[32m   1145\u001b[39m \u001b[33;03marray([2, 2, 1, 1])\u001b[39;00m\n\u001b[32m   1146\u001b[39m \u001b[33;03m\"\"\"\u001b[39;00m\n\u001b[32m   1147\u001b[39m values, mask = _get_values(values, \u001b[38;5;28;01mTrue\u001b[39;00m, fill_value_typ=\u001b[33m\"\u001b[39m\u001b[33m-inf\u001b[39m\u001b[33m\"\u001b[39m, mask=mask)\n\u001b[32m-> \u001b[39m\u001b[32m1148\u001b[39m result = \u001b[43mvalues\u001b[49m\u001b[43m.\u001b[49m\u001b[43margmax\u001b[49m\u001b[43m(\u001b[49m\u001b[43maxis\u001b[49m\u001b[43m)\u001b[49m\n\u001b[32m   1149\u001b[39m \u001b[38;5;66;03m# error: Argument 1 to \"_maybe_arg_null_out\" has incompatible type \"Any |\u001b[39;00m\n\u001b[32m   1150\u001b[39m \u001b[38;5;66;03m# signedinteger[Any]\"; expected \"ndarray[Any, Any]\"\u001b[39;00m\n\u001b[32m   1151\u001b[39m result = _maybe_arg_null_out(result, axis, mask, skipna)  \u001b[38;5;66;03m# type: ignore[arg-type]\u001b[39;00m\n",
      "\u001b[31mValueError\u001b[39m: attempt to get argmax of an empty sequence"
     ]
    }
   ],
   "source": [
    "# Crop type with highest average soil moisture\n",
    "if 'Crop_Type' in df.columns and 'Soil_Moisture(%)' in df.columns:\n",
    "    top_crop = df.groupby('Crop_Type')['Soil_Moisture(%)'].mean().sort_values(ascending=False).idxmax()\n",
    "    print(f\"Crop type with highest average soil moisture: {top_crop}\")\n"
   ]
  },
  {
   "cell_type": "code",
   "execution_count": 34,
   "id": "5f3f5407",
   "metadata": {},
   "outputs": [
    {
     "name": "stdout",
     "output_type": "stream",
     "text": [
      "Irrigation recommendation for high-temp crops (temp > 30°C):\n",
      "Series([], Name: Soil_Moisture(%), dtype: float64)\n"
     ]
    }
   ],
   "source": [
    "# c. Irrigation recommendations for crops with temp > 30°C\n",
    "if 'Temperature(C)' in df.columns and 'Soil_Moisture(%)' in df.columns and 'Crop_Type' in df.columns:\n",
    "    hot_crops = df[df['Temperature(C)'] > 30]\n",
    "    irrigation_recommendations = hot_crops.groupby('Crop_Type')['Soil_Moisture(%)'].mean().sort_values()\n",
    "\n",
    "    print(\"Irrigation recommendation for high-temp crops (temp > 30°C):\")\n",
    "    print(irrigation_recommendations)\n",
    "\n",
    "#     Recommendation:\n",
    "\n",
    "# Crops experiencing average temps >30°C with low soil moisture need increased irrigation frequency.\n",
    "\n",
    "# Consider drip irrigation systems for better efficiency.\n"
   ]
  },
  {
   "cell_type": "code",
   "execution_count": 42,
   "id": "c03a799f",
   "metadata": {},
   "outputs": [],
   "source": [
    "# 5. Export Cleaned Dataset\n",
    "df.to_csv('cleaned_precision_agriculture_data.csv', index=False)\n"
   ]
  }
 ],
 "metadata": {
  "kernelspec": {
   "display_name": "Python 3",
   "language": "python",
   "name": "python3"
  },
  "language_info": {
   "codemirror_mode": {
    "name": "ipython",
    "version": 3
   },
   "file_extension": ".py",
   "mimetype": "text/x-python",
   "name": "python",
   "nbconvert_exporter": "python",
   "pygments_lexer": "ipython3",
   "version": "3.13.3"
  }
 },
 "nbformat": 4,
 "nbformat_minor": 5
}
