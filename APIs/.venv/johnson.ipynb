{
 "cells": [
  {
   "cell_type": "code",
   "execution_count": 2,
   "id": "ed92a412",
   "metadata": {},
   "outputs": [],
   "source": [
    "# #Locate and extract specific content from the page\n",
    "# response = requests.get('http://quotes.toscrape.com')\n",
    "# soup = BeautifulSoup(response.content, 'html.parser')\n",
    "# quotes = soup.find_all('div', class_='quote')\n",
    "# for quote in quotes:\n",
    "#     text = quote.find('span', class_='text').get_text()\n",
    "#     author = quote.find('small', class_='author').get_text()\n",
    "#     print(f'\"{text}\" - {author}')"
   ]
  }
 ],
 "metadata": {
  "kernelspec": {
   "display_name": "Python 3",
   "language": "python",
   "name": "python3"
  },
  "language_info": {
   "codemirror_mode": {
    "name": "ipython",
    "version": 3
   },
   "file_extension": ".py",
   "mimetype": "text/x-python",
   "name": "python",
   "nbconvert_exporter": "python",
   "pygments_lexer": "ipython3",
   "version": "3.10.0"
  }
 },
 "nbformat": 4,
 "nbformat_minor": 5
}
